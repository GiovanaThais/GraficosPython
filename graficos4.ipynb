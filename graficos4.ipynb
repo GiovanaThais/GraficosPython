{
  "nbformat": 4,
  "nbformat_minor": 0,
  "metadata": {
    "colab": {
      "name": "graficos4.ipynb",
      "provenance": [],
      "collapsed_sections": [],
      "authorship_tag": "ABX9TyNK2hd76fBjnT2IhKjps79L",
      "include_colab_link": true
    },
    "kernelspec": {
      "name": "python3",
      "display_name": "Python 3"
    }
  },
  "cells": [
    {
      "cell_type": "markdown",
      "metadata": {
        "id": "view-in-github",
        "colab_type": "text"
      },
      "source": [
        "<a href=\"https://colab.research.google.com/github/GiovanaThais/GraficosPython/blob/master/graficos4.ipynb\" target=\"_parent\"><img src=\"https://colab.research.google.com/assets/colab-badge.svg\" alt=\"Open In Colab\"/></a>"
      ]
    },
    {
      "cell_type": "code",
      "metadata": {
        "id": "9pPPCSzsctn3",
        "colab": {
          "base_uri": "https://localhost:8080/",
          "height": 295
        },
        "outputId": "c69702c5-4481-4dd6-d0b7-9cd2ad7a1b91"
      },
      "source": [
        "import matplotlib.pyplot as plt \n",
        "import random\n",
        "vetor=[]\n",
        "\n",
        "for i in range(100):\n",
        "  num_aleatorio=random.randint(0,50)\n",
        "  vetor.append(num_aleatorio)\n",
        "\n",
        "titulo= 'Crescimento da População Brasileira 1980-2016'\n",
        "eixox='Ano'\n",
        "eixoy='População'\n",
        "\n",
        "plt.title(titulo)\n",
        "plt.xlabel(eixox)\n",
        "plt.ylabel(eixoy)\n",
        "plt.boxplot(vetor)\n",
        "\n",
        "\n",
        "plt.show()"
      ],
      "execution_count": null,
      "outputs": [
        {
          "output_type": "display_data",
          "data": {
            "image/png": "[encoded data removed]",
            "text/plain": [
              "<Figure size 432x288 with 1 Axes>"
            ]
          },
          "metadata": {
            "tags": []
          }
        }
      ]
    }
  ]
}