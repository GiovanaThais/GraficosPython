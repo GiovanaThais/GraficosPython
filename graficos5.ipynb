{
  "nbformat": 4,
  "nbformat_minor": 0,
  "metadata": {
    "colab": {
      "name": "graficos5.ipynb",
      "provenance": [],
      "collapsed_sections": [],
      "authorship_tag": "ABX9TyOy2jX90o3Cjkn5hvuPQFIa",
      "include_colab_link": true
    },
    "kernelspec": {
      "name": "python3",
      "display_name": "Python 3"
    }
  },
  "cells": [
    {
      "cell_type": "markdown",
      "metadata": {
        "id": "view-in-github",
        "colab_type": "text"
      },
      "source": [
        "<a href=\"https://colab.research.google.com/github/GiovanaThais/GraficosPython/blob/master/graficos5.ipynb\" target=\"_parent\"><img src=\"https://colab.research.google.com/assets/colab-badge.svg\" alt=\"Open In Colab\"/></a>"
      ]
    },
    {
      "cell_type": "code",
      "metadata": {
        "id": "G4OzstXUm7c1",
        "colab": {
          "base_uri": "https://localhost:8080/",
          "height": 295
        },
        "outputId": "98c85d43-1709-43a2-ddad-3ab738336fb6"
      },
      "source": [
        "import matplotlib.pyplot as plt \n",
        "\n",
        "x1=[1,3,5,7,9]\n",
        "y1=[2,4,7,1,0.5]\n",
        "\n",
        "x2=[2,4,6,8,10]\n",
        "y2=[5,1,3,7,4]\n",
        "\n",
        "eixox='Eixo x'\n",
        "eixoy='Eixo y'\n",
        "titulo=\"Grafico de barras 2 \"\n",
        "plt.title(titulo)\n",
        "plt.xlabel(eixox)\n",
        "plt.ylabel(eixoy)\n",
        "plt.bar(x1,y1)\n",
        "plt.bar(x2,y2)\n",
        "plt.show()"
      ],
      "execution_count": null,
      "outputs": [
        {
          "output_type": "display_data",
          "data": {
            "image/png": "[encoded data removed]",
            "text/plain": [
              "<Figure size 432x288 with 1 Axes>"
            ]
          },
          "metadata": {
            "tags": []
          }
        }
      ]
    }
  ]
}